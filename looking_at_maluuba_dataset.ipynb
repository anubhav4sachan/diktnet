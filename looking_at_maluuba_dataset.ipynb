{
 "cells": [
  {
   "cell_type": "code",
   "execution_count": 1,
   "metadata": {},
   "outputs": [],
   "source": [
    "import json\n",
    "import os\n",
    "from collections import defaultdict\n",
    "\n",
    "import numpy as np"
   ]
  },
  {
   "cell_type": "code",
   "execution_count": 2,
   "metadata": {},
   "outputs": [],
   "source": [
    "DATA_FOLDER = 'data/crowdsourced_task-oriented_dialogues'\n",
    "BLIS_FILE = 'blis_collected_dialogues.json'\n",
    "BLIS_ENFORCED_FILE = 'blis_collected_dialogues_enforced.json'"
   ]
  },
  {
   "cell_type": "code",
   "execution_count": 3,
   "metadata": {},
   "outputs": [],
   "source": [
    "with open(os.path.join(DATA_FOLDER, BLIS_FILE)) as blis_in:\n",
    "    blis = json.load(blis_in)\n",
    "\n",
    "with open(os.path.join(DATA_FOLDER, BLIS_ENFORCED_FILE)) as blis_enforced_in:\n",
    "    blis_enforced = json.load(blis_enforced_in)"
   ]
  },
  {
   "cell_type": "markdown",
   "metadata": {},
   "source": [
    "Data statistics\n",
    "=="
   ]
  },
  {
   "cell_type": "code",
   "execution_count": 4,
   "metadata": {},
   "outputs": [
    {
     "name": "stdout",
     "output_type": "stream",
     "text": [
      "Dialogs number: 40388\n",
      "Average dialog length: 11.913\n",
      "Unique domains number: 51\n",
      "\n",
      "UPDATE_CALENDAR:\t1991\n",
      "GUINESS_CHECK:\t1886\n",
      "ALARM_SET:\t1681\n",
      "SCAM_LOOKUP:\t1658\n",
      "PLAY_TIMES:\t1601\n",
      "GAME_RULES:\t1590\n",
      "CONTACT_MANAGER:\t1483\n",
      "LIBRARY_REQUEST:\t1339\n",
      "INSURANCE:\t1299\n",
      "HOME_BOT:\t1210\n",
      "HOW_TO_BASIC:\t1086\n",
      "CITY_INFO:\t965\n",
      "TIME_ZONE:\t951\n",
      "TOURISM:\t935\n",
      "SHOPPING:\t903\n",
      "BUS_SCHEDULE_BOT:\t898\n",
      "CHECK_STATUS:\t784\n",
      "WHAT_IS_IT:\t776\n",
      "STORE_DETAILS:\t737\n",
      "APPOINTMENT_REMINDER:\t668\n",
      "PRESENT_IDEAS:\t664\n",
      "GEOGRAPHY:\t653\n",
      "SKI_BOT:\t607\n",
      "MOVIE_LISTINGS:\t607\n",
      "UPDATE_CONTACT:\t581\n",
      "ORDER_PIZZA:\t577\n",
      "EDIT_PLAYLIST:\t574\n",
      "SPORTS_INFO:\t561\n",
      "BOOKING_FLIGHT:\t555\n",
      "WEATHER_CHECK:\t551\n",
      "EVENT_RESERVE:\t539\n",
      "RESTAURANT_PICKER:\t535\n",
      "LOOK_UP_INFO:\t533\n",
      "AUTO_SORT:\t514\n",
      "QUOTE_OF_THE_DAY_BOT:\t513\n",
      "WEDDING_PLANNER:\t510\n",
      "MAKE_RESTAURANT_RESERVATIONS:\t510\n",
      "AGREEMENT_BOT:\t507\n",
      "NAME_SUGGESTER:\t499\n",
      "APARTMENT_FINDER:\t499\n",
      "HOTEL_RESERVE:\t497\n",
      "PHONE_PLAN_BOT:\t496\n",
      "DECIDER_BOT:\t487\n",
      "VACATION_IDEAS:\t486\n",
      "PHONE_SETTINGS:\t473\n",
      "POLICY_BOT:\t447\n",
      "PROMPT_GENERATOR:\t446\n",
      "MUSIC_SUGGESTER:\t445\n",
      "PET_ADVICE:\t426\n",
      "BANK_BOT:\t367\n",
      "CATALOGUE_BOT:\t288\n"
     ]
    }
   ],
   "source": [
    "domain_map = defaultdict(lambda: 0)\n",
    "for dialog in blis:\n",
    "    domain_map[dialog['task']['domain']] += 1\n",
    "\n",
    "print 'Dialogs number: {}'.format(len(blis))\n",
    "print 'Average dialog length: {:.3f}'.format(np.mean([len(dialog['turns']) for dialog in blis]))\n",
    "print 'Unique domains number: {}\\n'.format(len(domain_map))\n",
    "for name, count in sorted(domain_map.iteritems(), key=lambda x: x[1], reverse=True):\n",
    "    print '{}:\\t{}'.format(name, count)"
   ]
  },
  {
   "cell_type": "markdown",
   "metadata": {},
   "source": [
    "Annotations\n",
    "=="
   ]
  },
  {
   "cell_type": "code",
   "execution_count": 16,
   "metadata": {},
   "outputs": [
    {
     "data": {
      "text/plain": [
       "{u'bot': {u'averageRating': 4.79, u'id': u'321541', u'numDialogues': 1123},\n",
       " u'id': u'5HJCWPTSQ2v6d5EYAABePfjl_Yoed8aRmg-MAABf',\n",
       " u'ratings': [5, 5],\n",
       " u'task': {u'botPrompt': u'Provide the user with the information they request',\n",
       "  u'botRole': u'You are a bot that provides facts about different cities',\n",
       "  u'domain': u'CITY_INFO',\n",
       "  u'id': u'5ad9224f67bd9c25fcfeb62d',\n",
       "  u'userPrompt': u'Ask what river the city of Montreal is on',\n",
       "  u'userRole': u'You are interacting with a bot that provides facts about different cities'},\n",
       " u'turns': [{u'authorId': u'321541',\n",
       "   u'authorType': u'bot',\n",
       "   u'text': u'Hello how may I help you?'},\n",
       "  {u'authorId': u'314223',\n",
       "   u'authorType': u'user',\n",
       "   u'text': u'i have a question about the city of montreal'},\n",
       "  {u'authorId': u'321541',\n",
       "   u'authorType': u'bot',\n",
       "   u'text': u'What would you like to know?'},\n",
       "  {u'authorId': u'314223',\n",
       "   u'authorType': u'user',\n",
       "   u'text': u'can you tell me the name of the river the city is on?'},\n",
       "  {u'authorId': u'321541',\n",
       "   u'authorType': u'bot',\n",
       "   u'text': u'Montreal is on the St. Lawrence River.'},\n",
       "  {u'authorId': u'314223',\n",
       "   u'authorType': u'user',\n",
       "   u'text': u'How big is the St. Lawrence River'},\n",
       "  {u'authorId': u'321541',\n",
       "   u'authorType': u'bot',\n",
       "   u'text': u'The St. Lawrence River is 743.8 miles long.'},\n",
       "  {u'authorId': u'314223',\n",
       "   u'authorType': u'user',\n",
       "   u'text': u'Can you tell me one more interesting fact about Montreal?'},\n",
       "  {u'authorId': u'321541',\n",
       "   u'authorType': u'bot',\n",
       "   u'text': u'Montreal is one of the five largest French speaking cities in the world.'},\n",
       "  {u'authorId': u'314223',\n",
       "   u'authorType': u'user',\n",
       "   u'text': u\"Thanks, I didn't know that!\"},\n",
       "  {u'authorId': u'321541',\n",
       "   u'authorType': u'bot',\n",
       "   u'text': u\"No problem! Is there anything else you'd like to know?\"},\n",
       "  {u'authorId': u'314223',\n",
       "   u'authorType': u'user',\n",
       "   u'text': u\"Nope, that's it.\"}],\n",
       " u'user': {u'averageRating': 4.7, u'id': u'314223', u'numDialogues': 1263}}"
      ]
     },
     "execution_count": 16,
     "metadata": {},
     "output_type": "execute_result"
    }
   ],
   "source": [
    "[dialog for dialog in blis if dialog['task']['domain'] == 'CITY_INFO'][0]"
   ]
  }
 ],
 "metadata": {
  "kernelspec": {
   "display_name": "Python 2",
   "language": "python",
   "name": "python2"
  },
  "language_info": {
   "codemirror_mode": {
    "name": "ipython",
    "version": 2
   },
   "file_extension": ".py",
   "mimetype": "text/x-python",
   "name": "python",
   "nbconvert_exporter": "python",
   "pygments_lexer": "ipython2",
   "version": "2.7.15+"
  }
 },
 "nbformat": 4,
 "nbformat_minor": 2
}
